{
 "cells": [
  {
   "cell_type": "code",
   "execution_count": null,
   "id": "cf7bf3ed",
   "metadata": {},
   "outputs": [],
   "source": [
    "import pandas as pd\n",
    "import smtplib\n",
    "from email.mime.multipart import MIMEMultipart\n",
    "from email.mime.text import MIMEText\n",
    "\n",
    "\n",
    "example_df = pd.DataFrame({\n",
    "    \"Siteid\": [1, 2],\n",
    "    \"Anomaly scores\": [3, 4],\n",
    "    \"Class\": [5, 6]\n",
    "})\n",
    "    \n",
    "def Send_Rangaurd_Alert(dataframe):\n",
    "    \"\"\"\n",
    "    Sends email alert for ranguard anomaly classification dataframe\n",
    "    \n",
    "    Args: Dataframe - pandas df or table summary to send over email\n",
    "\n",
    "    \"\"\"\n",
    "    #Email addresses to send from\n",
    "    email = \"azzagold99@gmail.com\"\n",
    "    app_password = \"\"\n",
    "    revieiver_email = \"azzagold99@gmail.com\"\n",
    "\n",
    "\n",
    "    # Convert DataFrame to HTML table\n",
    "    html_table = dataframe.to_html(index=False, border=1)\n",
    "\n",
    "    # Build MIME email\n",
    "    subject = \"Ranguard: Anomaly Report\"\n",
    "    msg = MIMEMultipart()\n",
    "    msg[\"From\"] = email\n",
    "    msg[\"To\"] = revieiver_email\n",
    "    msg[\"Subject\"] = subject\n",
    "\n",
    "    body = f\"\"\"\n",
    "    <p>Ranguard analysis data:</p>\n",
    "    {html_table}\n",
    "    \"\"\"\n",
    "    msg.attach(MIMEText(body, \"html\"))\n",
    "\n",
    "\n",
    "    server= smtplib.SMTP(\"smtp.gmail.com\",587) \n",
    "    server.starttls()\n",
    "\n",
    "    server.login(email, app_password)\n",
    "    server.set_debuglevel(1)\n",
    "\n",
    "    server.sendmail(email, revieiver_email, msg.as_string())\n",
    "    server.quit()\n",
    "    print(\"email has been sent to \"+ revieiver_email)\n",
    "    \n",
    "Send_Rangaurd_Alert(example_df)"
   ]
  },
  {
   "cell_type": "code",
   "execution_count": null,
   "id": "dde25070",
   "metadata": {},
   "outputs": [],
   "source": []
  }
 ],
 "metadata": {
  "kernelspec": {
   "display_name": "Python 3",
   "language": "python",
   "name": "python3"
  },
  "language_info": {
   "codemirror_mode": {
    "name": "ipython",
    "version": 3
   },
   "file_extension": ".py",
   "mimetype": "text/x-python",
   "name": "python",
   "nbconvert_exporter": "python",
   "pygments_lexer": "ipython3",
   "version": "3.11.1"
  }
 },
 "nbformat": 4,
 "nbformat_minor": 5
}
